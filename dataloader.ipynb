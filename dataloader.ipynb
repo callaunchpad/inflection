{
 "cells": [
  {
   "cell_type": "code",
   "execution_count": 32,
   "metadata": {},
   "outputs": [
    {
     "name": "stdout",
     "output_type": "stream",
     "text": [
      "22050 44100\n",
      "22050 44100\n",
      "22050 44100\n",
      "22050 44100\n",
      "22050 44100\n",
      "22050 44100\n",
      "[((233856,), (824832, 2)), ((233856,), (824832,)), ((233856,), (824832,))]\n"
     ]
    }
   ],
   "source": [
    "import os\n",
    "from scipy.io import wavfile\n",
    "\n",
    "class Thing:\n",
    "    def __init__(self):\n",
    "        self.data_dir = os.path.join(os.getcwd(), 'data') # Joanna\n",
    "        self.recording_dir = os.path.join(os.getcwd(), 'recordings') # random voices\n",
    "        self.files = [file for file in os.listdir(self.data_dir) if file[-4:] == '.wav']\n",
    "\n",
    "    def __len__(self):\n",
    "        return len(self.files)\n",
    "\n",
    "    def __getitem__(self, idx):\n",
    "        fs_X, X = wavfile.read(os.path.join(self.data_dir, self.files[idx]))\n",
    "        fs_Y, Y = wavfile.read(os.path.join(self.recording_dir, self.files[idx])) # must be of wav format\n",
    "        print(fs_X, fs_Y)\n",
    "        return X, Y\n",
    "\n",
    "thing = Thing()\n",
    "print([(thing[i][0].shape, thing[i][1].shape) for i in range(min(len(thing), 10))])"
   ]
  },
  {
   "cell_type": "code",
   "execution_count": 36,
   "metadata": {},
   "outputs": [
    {
     "name": "stdout",
     "output_type": "stream",
     "text": [
      "(412416,)\n",
      "22050\n"
     ]
    }
   ],
   "source": [
    "fs, thing = wavfile.read(os.path.join(os.getcwd(), 'recordings', 'obamaVeryShit.wav')) # must be of wav format\n",
    "print(thing.shape)\n",
    "print(fs)"
   ]
  },
  {
   "cell_type": "code",
   "execution_count": null,
   "metadata": {},
   "outputs": [],
   "source": []
  }
 ],
 "metadata": {
  "kernelspec": {
   "display_name": ".env",
   "language": "python",
   "name": ".env"
  },
  "language_info": {
   "codemirror_mode": {
    "name": "ipython",
    "version": 3
   },
   "file_extension": ".py",
   "mimetype": "text/x-python",
   "name": "python",
   "nbconvert_exporter": "python",
   "pygments_lexer": "ipython3",
   "version": "3.8.10"
  }
 },
 "nbformat": 4,
 "nbformat_minor": 4
}
