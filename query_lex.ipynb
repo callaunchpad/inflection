{
 "cells": [
  {
   "cell_type": "code",
   "execution_count": 1,
   "metadata": {},
   "outputs": [
    {
     "name": "stdout",
     "output_type": "stream",
     "text": [
      "{'ResponseMetadata': {'RequestId': '282af876-01de-4a16-b347-35b9e9861c5f', 'HTTPStatusCode': 200, 'HTTPHeaders': {'x-amzn-requestid': '282af876-01de-4a16-b347-35b9e9861c5f', 'x-amz-lex-session-id': '2021-10-27T03:22:51.660Z-dtPGTnTp', 'date': 'Wed, 27 Oct 2021 03:22:51 GMT', 'content-type': 'application/json', 'content-length': '0'}, 'RetryAttempts': 0}, 'contentType': 'application/json', 'sessionId': '2021-10-27T03:22:51.660Z-dtPGTnTp', 'audioStream': <botocore.response.StreamingBody object at 0x7f8765c2b5e0>}\n",
      "How many nights will you be staying?\n"
     ]
    }
   ],
   "source": [
    "from botocore.exceptions import BotoCoreError, ClientError\n",
    "from contextlib import closing\n",
    "import os\n",
    "import sys\n",
    "import time\n",
    "import boto3\n",
    "import json"
   ]
  },
  {
   "cell_type": "code",
   "execution_count": 20,
   "metadata": {},
   "outputs": [],
   "source": [
    "# AWS Constants\n",
    "AWS_PROFILE_NAME = 'patwang123'\n",
    "AWS_REGION = 'us-east-1'\n",
    "\n",
    "BOT_NAME = 'BookTrip'\n",
    "BOT_ALIAS = 'test'\n",
    "USER_ID = 'pat'"
   ]
  },
  {
   "cell_type": "code",
   "execution_count": 21,
   "metadata": {},
   "outputs": [
    {
     "name": "stdout",
     "output_type": "stream",
     "text": [
      "{'ResponseMetadata': {'RequestId': 'afb7f62f-b6b3-4d17-b005-f3db145c588f', 'HTTPStatusCode': 200, 'HTTPHeaders': {'x-amzn-requestid': 'afb7f62f-b6b3-4d17-b005-f3db145c588f', 'x-amz-lex-session-id': '2021-10-27T03:31:10.032Z-zQCsuoWs', 'date': 'Wed, 27 Oct 2021 03:31:10 GMT', 'content-type': 'application/json', 'content-length': '0'}, 'RetryAttempts': 0}, 'contentType': 'application/json', 'sessionId': '2021-10-27T03:31:10.032Z-zQCsuoWs', 'audioStream': <botocore.response.StreamingBody object at 0x7f8765305250>}\n"
     ]
    }
   ],
   "source": [
    "# Start Lex session\n",
    "session = boto3.Session(profile_name=AWS_PROFILE_NAME, region_name=AWS_REGION)\n",
    "lex = session.client('lex-runtime')\n",
    "\n",
    "try:\n",
    "    lex.delete_session(botName=BOT_NAME, botAlias=BOT_ALIAS, userId=USER_ID)\n",
    "except:\n",
    "    pass\n",
    "\n",
    "bot_session = lex.put_session(botName=BOT_NAME, botAlias=BOT_ALIAS, userId=USER_ID) # bot alias/ name are required,,?\n",
    "print(bot_session)"
   ]
  },
  {
   "cell_type": "code",
   "execution_count": 22,
   "metadata": {},
   "outputs": [
    {
     "name": "stdout",
     "output_type": "stream",
     "text": [
      "Sorry, what can I help you with? ur mom\n",
      "Sorry, what can I help you with? book a trip\n",
      "What city will you be staying in? mehul\n",
      "What day do you want to check in? poland\n",
      "What day do you want to check in? dfsf\n",
      "Sorry, I am not able to assist at this time exit\n"
     ]
    }
   ],
   "source": [
    "# Post data\n",
    "text = 'abc'\n",
    "while True:\n",
    "    response = lex.post_content(botName='BookTrip',\n",
    "                                botAlias='test', \n",
    "                                userId='pat',\n",
    "                                contentType='text/plain; charset=utf-8',\n",
    "                                inputStream=text)\n",
    "    text = input(response[\"ResponseMetadata\"][\"HTTPHeaders\"][\"x-amz-lex-message\"] + \" \")\n",
    "    if text == 'exit':\n",
    "        break\n",
    "    with closing(response[\"audioStream\"]) as stream:\n",
    "        save_path = os.path.join(os.getcwd(), 'heck.wav')\n",
    "        file = open(save_path, 'wb')\n",
    "        file.write(stream.read())"
   ]
  },
  {
   "cell_type": "code",
   "execution_count": null,
   "metadata": {},
   "outputs": [],
   "source": []
  }
 ],
 "metadata": {
  "kernelspec": {
   "display_name": ".env",
   "language": "python",
   "name": ".env"
  },
  "language_info": {
   "codemirror_mode": {
    "name": "ipython",
    "version": 3
   },
   "file_extension": ".py",
   "mimetype": "text/x-python",
   "name": "python",
   "nbconvert_exporter": "python",
   "pygments_lexer": "ipython3",
   "version": "3.8.10"
  }
 },
 "nbformat": 4,
 "nbformat_minor": 4
}
