{
 "cells": [
  {
   "cell_type": "code",
   "execution_count": 23,
   "metadata": {},
   "outputs": [],
   "source": [
    "# imports\n",
    "from botocore.exceptions import BotoCoreError, ClientError\n",
    "from contextlib import closing\n",
    "import os\n",
    "import sys\n",
    "import time\n",
    "import boto3\n",
    "from urllib.request import urlopen\n",
    "import json\n",
    "import ffmpeg\n",
    "import pyworld\n",
    "from scipy.io import wavfile\n",
    "import subprocess"
   ]
  },
  {
   "cell_type": "code",
   "execution_count": 2,
   "metadata": {},
   "outputs": [],
   "source": [
    "# AWS Constants\n",
    "S3_BUCKET_NAME = 'inflectionbucket'\n",
    "AWS_PROFILE_NAME = 'patwang123'\n",
    "AWS_REGION = 'us-east-1'"
   ]
  },
  {
   "cell_type": "code",
   "execution_count": 5,
   "metadata": {},
   "outputs": [],
   "source": [
    "# Other constants\n",
    "SUPPORTED_FORMATS = ['.wav', '.mp3']\n",
    "\n",
    "human_folder = \"human\"\n",
    "joanna_folder = \"joanna\"\n",
    "transcription_folder = \"transcriptions\"\n",
    "\n",
    "folders = [human_folder, joanna_folder, transcription_folder]\n",
    "    \n",
    "recording_uri = lambda u: f\"{human_folder}/{u}\" # our human voices to be tra\n",
    "data_uri = lambda u: f\"{joanna_folder}/{u}\"\n",
    "transcription_uri = lambda u: f\"transcriptions/{u}\"\n",
    "s3_recording_uri = lambda u: f\"s3://{S3_BUCKET_NAME}/{recording_uri(u)}\""
   ]
  },
  {
   "cell_type": "code",
   "execution_count": 6,
   "metadata": {},
   "outputs": [],
   "source": [
    "# Create folders if does not already exist\n",
    "# Recording -- our voices that are being converted to text and then to polly\n",
    "# Transcriptions -- the transcripts\n",
    "# Data -- the voice generated results from AWS\n",
    "cwd = os.getcwd()\n",
    "for folder in folders:\n",
    "    path = os.path.join(cwd, folder)\n",
    "    if not os.path.exists(path):\n",
    "        os.makedirs(path)"
   ]
  },
  {
   "cell_type": "code",
   "execution_count": 7,
   "metadata": {},
   "outputs": [],
   "source": [
    "# Start s3, Polly, and Transcribe AWS sessions\n",
    "session = boto3.Session(profile_name=AWS_PROFILE_NAME, region_name=AWS_REGION)\n",
    "s3 = session.client('s3')\n",
    "polly = session.client(\"polly\")\n",
    "transcribe = session.client('transcribe')"
   ]
  },
  {
   "cell_type": "code",
   "execution_count": 8,
   "metadata": {},
   "outputs": [],
   "source": [
    "# Create bucket if does not exist yet\n",
    "try:\n",
    "    s3.create_bucket(Bucket=S3_BUCKET_NAME)\n",
    "except:\n",
    "    pass"
   ]
  },
  {
   "cell_type": "code",
   "execution_count": null,
   "metadata": {},
   "outputs": [],
   "source": []
  },
  {
   "cell_type": "code",
   "execution_count": 29,
   "metadata": {},
   "outputs": [
    {
     "name": "stdout",
     "output_type": "stream",
     "text": [
      "Transcribing...\n",
      "0.0% of the way done transcribing.\n",
      "0.0% of the way done transcribing.\n",
      "100.0% of the way done transcribing.\n",
      "Done transcribing\n",
      "['1_obama.wav', '0_obama.wav']\n",
      "Getting the joanna voice shenanigans\n"
     ]
    },
    {
     "name": "stderr",
     "output_type": "stream",
     "text": [
      "ffmpeg version 4.2.4-1ubuntu0.1 Copyright (c) 2000-2020 the FFmpeg developers\n",
      "  built with gcc 9 (Ubuntu 9.3.0-10ubuntu2)\n",
      "  configuration: --prefix=/usr --extra-version=1ubuntu0.1 --toolchain=hardened --libdir=/usr/lib/x86_64-linux-gnu --incdir=/usr/include/x86_64-linux-gnu --arch=amd64 --enable-gpl --disable-stripping --enable-avresample --disable-filter=resample --enable-avisynth --enable-gnutls --enable-ladspa --enable-libaom --enable-libass --enable-libbluray --enable-libbs2b --enable-libcaca --enable-libcdio --enable-libcodec2 --enable-libflite --enable-libfontconfig --enable-libfreetype --enable-libfribidi --enable-libgme --enable-libgsm --enable-libjack --enable-libmp3lame --enable-libmysofa --enable-libopenjpeg --enable-libopenmpt --enable-libopus --enable-libpulse --enable-librsvg --enable-librubberband --enable-libshine --enable-libsnappy --enable-libsoxr --enable-libspeex --enable-libssh --enable-libtheora --enable-libtwolame --enable-libvidstab --enable-libvorbis --enable-libvpx --enable-libwavpack --enable-libwebp --enable-libx265 --enable-libxml2 --enable-libxvid --enable-libzmq --enable-libzvbi --enable-lv2 --enable-omx --enable-openal --enable-opencl --enable-opengl --enable-sdl2 --enable-libdc1394 --enable-libdrm --enable-libiec61883 --enable-nvenc --enable-chromaprint --enable-frei0r --enable-libx264 --enable-shared\n",
      "  libavutil      56. 31.100 / 56. 31.100\n",
      "  libavcodec     58. 54.100 / 58. 54.100\n",
      "  libavformat    58. 29.100 / 58. 29.100\n",
      "  libavdevice    58.  8.100 / 58.  8.100\n",
      "  libavfilter     7. 57.100 /  7. 57.100\n",
      "  libavresample   4.  0.  0 /  4.  0.  0\n",
      "  libswscale      5.  5.100 /  5.  5.100\n",
      "  libswresample   3.  5.100 /  3.  5.100\n",
      "  libpostproc    55.  5.100 / 55.  5.100\n",
      "[mp3 @ 0x5584d57b0280] Estimating duration from bitrate, this may be inaccurate\n",
      "Input #0, mp3, from 'joanna/1_obama.wavTEMP':\n",
      "  Metadata:\n",
      "    encoder         : Lavf58.76.100\n",
      "  Duration: 00:00:04.75, start: 0.000000, bitrate: 48 kb/s\n",
      "    Stream #0:0: Audio: mp3, 22050 Hz, mono, fltp, 48 kb/s\n",
      "Stream mapping:\n",
      "  Stream #0:0 -> #0:0 (mp3 (mp3float) -> pcm_s16le (native))\n",
      "Press [q] to stop, [?] for help\n",
      "Output #0, wav, to 'joanna/1_obama.wav':\n",
      "  Metadata:\n",
      "    ISFT            : Lavf58.29.100\n",
      "    Stream #0:0: Audio: pcm_s16le ([1][0][0][0] / 0x0001), 22050 Hz, mono, s16, 352 kb/s\n",
      "    Metadata:\n",
      "      encoder         : Lavc58.54.100 pcm_s16le\n",
      "size=     205kB time=00:00:04.75 bitrate= 352.9kbits/s speed= 664x    \n",
      "video:0kB audio:205kB subtitle:0kB other streams:0kB global headers:0kB muxing overhead: 0.037202%\n"
     ]
    },
    {
     "name": "stdout",
     "output_type": "stream",
     "text": [
      "Done synthesizing\n"
     ]
    },
    {
     "name": "stderr",
     "output_type": "stream",
     "text": [
      "ffmpeg version 4.2.4-1ubuntu0.1 Copyright (c) 2000-2020 the FFmpeg developers\n",
      "  built with gcc 9 (Ubuntu 9.3.0-10ubuntu2)\n",
      "  configuration: --prefix=/usr --extra-version=1ubuntu0.1 --toolchain=hardened --libdir=/usr/lib/x86_64-linux-gnu --incdir=/usr/include/x86_64-linux-gnu --arch=amd64 --enable-gpl --disable-stripping --enable-avresample --disable-filter=resample --enable-avisynth --enable-gnutls --enable-ladspa --enable-libaom --enable-libass --enable-libbluray --enable-libbs2b --enable-libcaca --enable-libcdio --enable-libcodec2 --enable-libflite --enable-libfontconfig --enable-libfreetype --enable-libfribidi --enable-libgme --enable-libgsm --enable-libjack --enable-libmp3lame --enable-libmysofa --enable-libopenjpeg --enable-libopenmpt --enable-libopus --enable-libpulse --enable-librsvg --enable-librubberband --enable-libshine --enable-libsnappy --enable-libsoxr --enable-libspeex --enable-libssh --enable-libtheora --enable-libtwolame --enable-libvidstab --enable-libvorbis --enable-libvpx --enable-libwavpack --enable-libwebp --enable-libx265 --enable-libxml2 --enable-libxvid --enable-libzmq --enable-libzvbi --enable-lv2 --enable-omx --enable-openal --enable-opencl --enable-opengl --enable-sdl2 --enable-libdc1394 --enable-libdrm --enable-libiec61883 --enable-nvenc --enable-chromaprint --enable-frei0r --enable-libx264 --enable-shared\n",
      "  libavutil      56. 31.100 / 56. 31.100\n",
      "  libavcodec     58. 54.100 / 58. 54.100\n",
      "  libavformat    58. 29.100 / 58. 29.100\n",
      "  libavdevice    58.  8.100 / 58.  8.100\n",
      "  libavfilter     7. 57.100 /  7. 57.100\n",
      "  libavresample   4.  0.  0 /  4.  0.  0\n",
      "  libswscale      5.  5.100 /  5.  5.100\n",
      "  libswresample   3.  5.100 /  3.  5.100\n",
      "  libpostproc    55.  5.100 / 55.  5.100\n",
      "[mp3 @ 0x55767f707280] Estimating duration from bitrate, this may be inaccurate\n",
      "Input #0, mp3, from 'joanna/0_obama.wavTEMP':\n",
      "  Metadata:\n",
      "    encoder         : Lavf58.76.100\n",
      "  Duration: 00:00:04.28, start: 0.000000, bitrate: 48 kb/s\n",
      "    Stream #0:0: Audio: mp3, 22050 Hz, mono, fltp, 48 kb/s\n",
      "Stream mapping:\n",
      "  Stream #0:0 -> #0:0 (mp3 (mp3float) -> pcm_s16le (native))\n",
      "Press [q] to stop, [?] for help\n",
      "Output #0, wav, to 'joanna/0_obama.wav':\n",
      "  Metadata:\n",
      "    ISFT            : Lavf58.29.100\n",
      "    Stream #0:0: Audio: pcm_s16le ([1][0][0][0] / 0x0001), 22050 Hz, mono, s16, 352 kb/s\n",
      "    Metadata:\n",
      "      encoder         : Lavc58.54.100 pcm_s16le\n",
      "size=     185kB time=00:00:04.28 bitrate= 352.9kbits/s speed= 506x    \n",
      "video:0kB audio:184kB subtitle:0kB other streams:0kB global headers:0kB muxing overhead: 0.041286%\n"
     ]
    }
   ],
   "source": [
    "# to check if we have already processed it, as if it is already in data, there is no need to process it again\n",
    "data_done = set([os.path.splitext(f)[0] for f in os.listdir(os.path.join(cwd, joanna_folder))])\n",
    "\n",
    "# list of file names that should be located in the recordings/ to process\n",
    "filenames = [f for f in os.listdir(os.path.join(cwd, human_folder)) if f not in data_done]\n",
    "\n",
    "# Uploads all files into s3\n",
    "for filename in filenames:\n",
    "    with closing(open(recording_uri(filename), 'rb')) as f:\n",
    "        p = s3.upload_fileobj(f, S3_BUCKET_NAME, recording_uri(filename))\n",
    "\n",
    "in_progress = filenames[:]\n",
    "completed = []\n",
    "tot = len(in_progress)\n",
    "errors = []\n",
    "\n",
    "for f in in_progress:\n",
    "    job_name = f\n",
    "    job_uri = s3_recording_uri(f)\n",
    "    try:\n",
    "        transcribe.start_transcription_job(\n",
    "            TranscriptionJobName=job_name,\n",
    "            Media={'MediaFileUri': job_uri},\n",
    "            MediaFormat=\"wav\",\n",
    "            LanguageCode='en-US'\n",
    "        )\n",
    "    except:\n",
    "        transcribe.delete_transcription_job(TranscriptionJobName=job_name)\n",
    "        transcribe.start_transcription_job(\n",
    "            TranscriptionJobName=job_name,\n",
    "            Media={'MediaFileUri': job_uri},\n",
    "            MediaFormat=\"wav\",\n",
    "            LanguageCode='en-US'\n",
    "        )\n",
    "    \n",
    "print(\"Transcribing...\")\n",
    "while True:\n",
    "    incomplete = []\n",
    "    for f in in_progress:\n",
    "        status = transcribe.get_transcription_job(TranscriptionJobName=job_name)\n",
    "        if status['TranscriptionJob']['TranscriptionJobStatus'] in ['COMPLETED', 'FAILED']:\n",
    "            if status['TranscriptionJob']['TranscriptionJobStatus'] == 'COMPLETED':\n",
    "                completed.append(f)\n",
    "            else:\n",
    "                error.append(f)\n",
    "        else:\n",
    "            incomplete.append(f)\n",
    "    in_progress = incomplete\n",
    "    print(f\"{(len(completed)/tot * 10000) // 100}% of the way done transcribing.\")\n",
    "    if not in_progress:\n",
    "        break\n",
    "    time.sleep(15)\n",
    "\n",
    "print(\"Done transcribing\")\n",
    "\n",
    "print(completed)\n",
    "print(\"Getting the joanna voice shenanigans\")\n",
    "for f in completed:\n",
    "    job_name = f\n",
    "    job_uri = s3_recording_uri(f)\n",
    "    # Get location of data from transcription job and read in json\n",
    "    status = transcribe.get_transcription_job(TranscriptionJobName=job_name)\n",
    "    transcribe_url = status['TranscriptionJob']['Transcript']['TranscriptFileUri']\n",
    "    opened = urlopen(transcribe_url)\n",
    "    data_json = json.loads(opened.read())\n",
    "\n",
    "    # Delete transcription job to clean up AWS or whatever\n",
    "    transcribe.delete_transcription_job(TranscriptionJobName=job_name)\n",
    "\n",
    "    # Save file to transcription folder\n",
    "    with closing(open(transcription_uri(f\"{os.path.splitext(filename)[0]}.json\"), 'w')) as s:\n",
    "        json.dump(data_json, s)\n",
    "\n",
    "    # Using polly to synthesize speech based on transcript\n",
    "    try:\n",
    "        # Request speech synthesis\n",
    "        response = polly.synthesize_speech(Text=data_json['results']['transcripts'][0]['transcript'],\n",
    "                                           OutputFormat=\"mp3\",\n",
    "                                           VoiceId=\"Joanna\")\n",
    "    except (BotoCoreError, ClientError) as error:\n",
    "        # The service returned an error, exit gracefully\n",
    "        print(error)\n",
    "        continue\n",
    "\n",
    "    # Save polly response to data\n",
    "    if 'AudioStream' in response:\n",
    "        temp = f + \"TEMP\"\n",
    "        with closing(response[\"AudioStream\"]) as stream:\n",
    "            save_path = os.path.join(os.getcwd(), joanna_folder, temp)\n",
    "            file = open(save_path, 'wb')\n",
    "            file.write(stream.read())\n",
    "        command = f\"ffmpeg -i {data_uri(temp)} {data_uri(f)} -y\"\n",
    "        subprocess.call(command,shell=True)\n",
    "        os.remove(save_path)\n",
    "print(\"Done synthesizing\")"
   ]
  },
  {
   "cell_type": "code",
   "execution_count": 30,
   "metadata": {},
   "outputs": [
    {
     "name": "stdout",
     "output_type": "stream",
     "text": [
      "yay\n"
     ]
    }
   ],
   "source": [
    "print('yay')"
   ]
  },
  {
   "cell_type": "code",
   "execution_count": null,
   "metadata": {},
   "outputs": [],
   "source": []
  }
 ],
 "metadata": {
  "kernelspec": {
   "display_name": ".env",
   "language": "python",
   "name": ".env"
  },
  "language_info": {
   "codemirror_mode": {
    "name": "ipython",
    "version": 3
   },
   "file_extension": ".py",
   "mimetype": "text/x-python",
   "name": "python",
   "nbconvert_exporter": "python",
   "pygments_lexer": "ipython3",
   "version": "3.8.10"
  }
 },
 "nbformat": 4,
 "nbformat_minor": 4
}
