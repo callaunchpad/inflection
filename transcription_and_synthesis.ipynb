{
 "cells": [
  {
   "cell_type": "code",
   "execution_count": 20,
   "metadata": {},
   "outputs": [],
   "source": [
    "# imports\n",
    "from botocore.exceptions import BotoCoreError, ClientError\n",
    "from contextlib import closing\n",
    "import os\n",
    "import sys\n",
    "import time\n",
    "import boto3\n",
    "from urllib.request import urlopen\n",
    "import json\n",
    "import ffmpeg"
   ]
  },
  {
   "cell_type": "code",
   "execution_count": 21,
   "metadata": {},
   "outputs": [],
   "source": [
    "# AWS Constants\n",
    "S3_BUCKET_NAME = 'inflectionbucket'\n",
    "AWS_PROFILE_NAME = 'patwang123'\n",
    "AWS_REGION = 'us-east-1'"
   ]
  },
  {
   "cell_type": "code",
   "execution_count": 23,
   "metadata": {},
   "outputs": [],
   "source": [
    "# Other constants\n",
    "SUPPORTED_FORMATS = ['.wav', '.mp3']\n",
    "\n",
    "recording_uri = lambda u: f\"recordings/{u}\"\n",
    "data_uri = lambda u: f\"data/{u}\"\n",
    "transcription_uri = lambda u: f\"transcriptions/{u}\"\n",
    "s3_recording_uri = lambda u: f\"s3://{S3_BUCKET_NAME}/{recording_uri(u)}\""
   ]
  },
  {
   "cell_type": "code",
   "execution_count": 24,
   "metadata": {},
   "outputs": [],
   "source": [
    "# Create folders if does not already exist\n",
    "# Recording -- our voices that are being converted to text and then to polly\n",
    "# Transcriptions -- the transcripts\n",
    "# Data -- the voice generated results from AWS\n",
    "cwd = os.getcwd()\n",
    "for folder in ['data', 'recordings', 'transcriptions']:\n",
    "    path = os.path.join(cwd, folder)\n",
    "    if not os.path.exists(path):\n",
    "        os.makedirs(path)"
   ]
  },
  {
   "cell_type": "code",
   "execution_count": 25,
   "metadata": {},
   "outputs": [],
   "source": [
    "# Start s3, Polly, and Transcribe AWS sessions\n",
    "session = boto3.Session(profile_name=AWS_PROFILE_NAME, region_name=AWS_REGION)\n",
    "s3 = session.client('s3')\n",
    "polly = session.client(\"polly\")\n",
    "transcribe = session.client('transcribe')"
   ]
  },
  {
   "cell_type": "code",
   "execution_count": 26,
   "metadata": {},
   "outputs": [],
   "source": [
    "# Create bucket if does not exist yet\n",
    "try:\n",
    "    s3.create_bucket(Bucket=S3_BUCKET_NAME)\n",
    "except:\n",
    "    pass"
   ]
  },
  {
   "cell_type": "code",
   "execution_count": 27,
   "metadata": {},
   "outputs": [],
   "source": []
  },
  {
   "cell_type": "code",
   "execution_count": 33,
   "metadata": {},
   "outputs": [],
   "source": []
  },
  {
   "cell_type": "code",
   "execution_count": 52,
   "metadata": {},
   "outputs": [],
   "source": [
    "# Converts recordings to wav if mp3\n",
    "items = set(os.listdir(os.path.join(os.getcwd(), 'recordings')))\n",
    "for f in items:\n",
    "    if f[-4:] != '.wav':\n",
    "        if os.path.splitext(f)[0] + '.wav' not in items:\n",
    "            save_path = os.path.join(os.getcwd(), 'recordings', f)\n",
    "            stream = ffmpeg.input(save_path)\n",
    "            stream = ffmpeg.output(stream, os.path.join(os.getcwd(), 'recordings', os.path.splitext(f)[0] + '.wav'))\n",
    "            ffmpeg.run(stream)\n",
    "        os.remove(save_path)\n",
    "        \n",
    "# ffmpeg -i obama.wav -ac 1 obamaShit.wav\n",
    "# ffmpeg -i obamaShit.wav -ar 22050 obamaShittier.wav"
   ]
  },
  {
   "cell_type": "code",
   "execution_count": 51,
   "metadata": {},
   "outputs": [
    {
     "name": "stdout",
     "output_type": "stream",
     "text": [
      "Starting transcription job for obama.wav\n",
      "Data has already been processed and is in the data folder, skipping...\n",
      "Starting transcription job for obamaShittier.wav\n",
      "Transcription job 'obamaShittier.wav' is not ready yet...\n",
      "Transcription job 'obamaShittier.wav' is not ready yet...\n",
      "Transcription job 'obamaShittier.wav' is not ready yet...\n",
      "Transcription job 'obamaShittier.wav' is not ready yet...\n",
      "Starting transcription job for obamaShit.wav\n",
      "Data has already been processed and is in the data folder, skipping...\n"
     ]
    },
    {
     "name": "stderr",
     "output_type": "stream",
     "text": [
      "ffmpeg version 4.2.4-1ubuntu0.1 Copyright (c) 2000-2020 the FFmpeg developers\n",
      "  built with gcc 9 (Ubuntu 9.3.0-10ubuntu2)\n",
      "  configuration: --prefix=/usr --extra-version=1ubuntu0.1 --toolchain=hardened --libdir=/usr/lib/x86_64-linux-gnu --incdir=/usr/include/x86_64-linux-gnu --arch=amd64 --enable-gpl --disable-stripping --enable-avresample --disable-filter=resample --enable-avisynth --enable-gnutls --enable-ladspa --enable-libaom --enable-libass --enable-libbluray --enable-libbs2b --enable-libcaca --enable-libcdio --enable-libcodec2 --enable-libflite --enable-libfontconfig --enable-libfreetype --enable-libfribidi --enable-libgme --enable-libgsm --enable-libjack --enable-libmp3lame --enable-libmysofa --enable-libopenjpeg --enable-libopenmpt --enable-libopus --enable-libpulse --enable-librsvg --enable-librubberband --enable-libshine --enable-libsnappy --enable-libsoxr --enable-libspeex --enable-libssh --enable-libtheora --enable-libtwolame --enable-libvidstab --enable-libvorbis --enable-libvpx --enable-libwavpack --enable-libwebp --enable-libx265 --enable-libxml2 --enable-libxvid --enable-libzmq --enable-libzvbi --enable-lv2 --enable-omx --enable-openal --enable-opencl --enable-opengl --enable-sdl2 --enable-libdc1394 --enable-libdrm --enable-libiec61883 --enable-nvenc --enable-chromaprint --enable-frei0r --enable-libx264 --enable-shared\n",
      "  libavutil      56. 31.100 / 56. 31.100\n",
      "  libavcodec     58. 54.100 / 58. 54.100\n",
      "  libavformat    58. 29.100 / 58. 29.100\n",
      "  libavdevice    58.  8.100 / 58.  8.100\n",
      "  libavfilter     7. 57.100 /  7. 57.100\n",
      "  libavresample   4.  0.  0 /  4.  0.  0\n",
      "  libswscale      5.  5.100 /  5.  5.100\n",
      "  libswresample   3.  5.100 /  3.  5.100\n",
      "  libpostproc    55.  5.100 / 55.  5.100\n",
      "[mp3 @ 0x55a1b4b67280] Estimating duration from bitrate, this may be inaccurate\n",
      "Input #0, mp3, from '/home/patwang123/launchpad/inflection/data/obamaShittier.wavTEMP':\n",
      "  Metadata:\n",
      "    encoder         : Lavf58.76.100\n",
      "  Duration: 00:00:10.61, start: 0.000000, bitrate: 48 kb/s\n",
      "    Stream #0:0: Audio: mp3, 22050 Hz, mono, fltp, 48 kb/s\n",
      "Stream mapping:\n",
      "  Stream #0:0 -> #0:0 (mp3 (mp3float) -> pcm_s16le (native))\n",
      "Press [q] to stop, [?] for help\n",
      "Output #0, wav, to '/home/patwang123/launchpad/inflection/data/obamaShittier.wav':\n",
      "  Metadata:\n",
      "    ISFT            : Lavf58.29.100\n",
      "    Stream #0:0: Audio: pcm_s16le ([1][0][0][0] / 0x0001), 22050 Hz, mono, s16, 352 kb/s\n",
      "    Metadata:\n",
      "      encoder         : Lavc58.54.100 pcm_s16le\n",
      "size=     457kB time=00:00:10.60 bitrate= 352.9kbits/s speed= 495x    \n",
      "video:0kB audio:457kB subtitle:0kB other streams:0kB global headers:0kB muxing overhead: 0.016677%\n"
     ]
    }
   ],
   "source": [
    "# Uploads all files into s3\n",
    "for filename in filenames:\n",
    "    with closing(open(recording_uri(filename), 'rb')) as f:\n",
    "        p = s3.upload_fileobj(f, S3_BUCKET_NAME, recording_uri(filename))\n",
    "        \n",
    "# list of file names that should be located in the recordings/ to process\n",
    "filenames = os.listdir(os.path.join(cwd, 'recordings'))\n",
    "\n",
    "# to check if we have already processed it, as if it is already in data, there is no need to process it again\n",
    "data_done = set([os.path.splitext(f)[0] for f in os.listdir(os.path.join(cwd, 'data'))])\n",
    "\n",
    "for filename in filenames:\n",
    "    job_name = filename\n",
    "    job_uri = s3_recording_uri(filename) # s3://DOC-EXAMPLE-BUCKET1/key-prefix/file.file-extension\"\n",
    "\n",
    "    print(f\"Starting transcription job for {filename}\")\n",
    "    if filename[-4:] not in SUPPORTED_FORMATS:\n",
    "        print(f\"File does not end with one of {SUPPORTED_FORMATS}, skipping...\")\n",
    "        continue\n",
    "    if os.path.splitext(filename)[0] in data_done:\n",
    "        print(\"Data has already been processed and is in the data folder, skipping...\")\n",
    "        continue\n",
    "    try:\n",
    "        transcribe.start_transcription_job(\n",
    "            TranscriptionJobName=job_name,\n",
    "            Media={'MediaFileUri': job_uri},\n",
    "            MediaFormat=filename[-3:],\n",
    "            LanguageCode='en-US'\n",
    "            )\n",
    "    except:\n",
    "        transcribe.delete_transcription_job(TranscriptionJobName=job_name)\n",
    "        transcribe.start_transcription_job(\n",
    "            TranscriptionJobName=job_name,\n",
    "            Media={'MediaFileUri': job_uri},\n",
    "            MediaFormat=filename[-3:],\n",
    "            LanguageCode='en-US'\n",
    "        )\n",
    "\n",
    "    while True:\n",
    "        status = transcribe.get_transcription_job(TranscriptionJobName=job_name)\n",
    "        if status['TranscriptionJob']['TranscriptionJobStatus'] in ['COMPLETED', 'FAILED']:\n",
    "            break\n",
    "        print(f\"Transcription job '{job_name}' is not ready yet...\")\n",
    "        time.sleep(5)\n",
    "\n",
    "    assert status['ResponseMetadata']['HTTPStatusCode'] == 200\n",
    "\n",
    "    # Get location of data from transcription job and read in json\n",
    "    transcribe_url = status['TranscriptionJob']['Transcript']['TranscriptFileUri']\n",
    "    opened = urlopen(transcribe_url)\n",
    "    data_json = json.loads(opened.read())\n",
    "\n",
    "    # Delete transcription job to clean up AWS or whatever\n",
    "    transcribe.delete_transcription_job(TranscriptionJobName=job_name)\n",
    "\n",
    "    # Save file to transcription folder\n",
    "    with closing(open(transcription_uri(f\"{os.path.splitext(filename)[0]}.json\"), 'w')) as f:\n",
    "        json.dump(data_json, f)\n",
    "\n",
    "    # Using polly to synthesize speech based on transcript\n",
    "    try:\n",
    "        # Request speech synthesis\n",
    "        response = polly.synthesize_speech(Text=data_json['results']['transcripts'][0]['transcript'],\n",
    "                                           OutputFormat=\"mp3\",\n",
    "                                           VoiceId=\"Joanna\")\n",
    "    except (BotoCoreError, ClientError) as error:\n",
    "        # The service returned an error, exit gracefully\n",
    "        print(error)\n",
    "        continue\n",
    "\n",
    "    # Save polly response to data\n",
    "    if 'AudioStream' in response:\n",
    "        with closing(response[\"AudioStream\"]) as stream:\n",
    "            save_path = os.path.join(os.getcwd(), 'data', filename + \"TEMP\")\n",
    "            file = open(save_path, 'wb')\n",
    "            file.write(stream.read())\n",
    "        stream = ffmpeg.input(save_path)\n",
    "        stream = ffmpeg.output(stream, os.path.join(os.getcwd(), 'data', os.path.splitext(filename)[0] + '.wav'))\n",
    "        ffmpeg.run(stream)\n",
    "        os.remove(save_path)\n"
   ]
  },
  {
   "cell_type": "code",
   "execution_count": 30,
   "metadata": {},
   "outputs": [
    {
     "name": "stdout",
     "output_type": "stream",
     "text": [
      "yay\n"
     ]
    }
   ],
   "source": [
    "print('yay')"
   ]
  },
  {
   "cell_type": "code",
   "execution_count": null,
   "metadata": {},
   "outputs": [],
   "source": []
  }
 ],
 "metadata": {
  "kernelspec": {
   "display_name": ".env",
   "language": "python",
   "name": ".env"
  },
  "language_info": {
   "codemirror_mode": {
    "name": "ipython",
    "version": 3
   },
   "file_extension": ".py",
   "mimetype": "text/x-python",
   "name": "python",
   "nbconvert_exporter": "python",
   "pygments_lexer": "ipython3",
   "version": "3.8.10"
  }
 },
 "nbformat": 4,
 "nbformat_minor": 4
}
