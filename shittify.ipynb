{
 "cells": [
  {
   "cell_type": "code",
   "execution_count": 4,
   "metadata": {},
   "outputs": [],
   "source": [
    "import os\n",
    "import subprocess"
   ]
  },
  {
   "cell_type": "code",
   "execution_count": 3,
   "metadata": {},
   "outputs": [],
   "source": [
    "# items = set(os.listdir(os.path.join(os.getcwd(), 'recordings', 'unprocessed')))\n",
    "# for f in items:\n",
    "#     if f[-4:] != '.wav':\n",
    "#         if os.path.splitext(f)[0] + '.wav' not in items:\n",
    "#             save_path = os.path.join(os.getcwd(), 'recordings', f)\n",
    "#             stream = ffmpeg.input(save_path)\n",
    "#             stream = ffmpeg.output(stream, os.path.join(os.getcwd(), 'recordings', os.path.splitext(f)[0] + '.wav'))\n",
    "#             ffmpeg.run(stream)\n",
    "#         os.remove(save_path)"
   ]
  },
  {
   "cell_type": "code",
   "execution_count": null,
   "metadata": {},
   "outputs": [],
   "source": [
    "unprocessed_uri = lambda f: f\"recordings/unprocessed/{f}\"\n",
    "processed_uri = lambda f: f\"recordings/processed/{f}\"\n",
    "\n",
    "def shittify_audio(f):\n",
    "    command = f\"ffmpeg -i {unprocessed_uri(f)} -ac 1 -ar 22050 {processed_uri(f)} -y\"\n",
    "    subprocess.call(command,shell=True)\n",
    "    \n",
    "unprocessed = set(os.listdir(os.path.join(os.getcwd(), 'recordings', 'unprocessed')))\n",
    "[shittify_audio(f) for f in unprocessed]"
   ]
  }
 ],
 "metadata": {
  "kernelspec": {
   "display_name": ".env",
   "language": "python",
   "name": ".env"
  },
  "language_info": {
   "codemirror_mode": {
    "name": "ipython",
    "version": 3
   },
   "file_extension": ".py",
   "mimetype": "text/x-python",
   "name": "python",
   "nbconvert_exporter": "python",
   "pygments_lexer": "ipython3",
   "version": "3.8.10"
  }
 },
 "nbformat": 4,
 "nbformat_minor": 4
}
