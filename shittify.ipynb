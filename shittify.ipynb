{
 "cells": [
  {
   "cell_type": "code",
   "execution_count": 1,
   "metadata": {},
   "outputs": [],
   "source": [
    "import os\n",
    "import subprocess"
   ]
  },
  {
   "cell_type": "code",
   "execution_count": 2,
   "metadata": {},
   "outputs": [],
   "source": [
    "# items = set(os.listdir(os.path.join(os.getcwd(), 'recordings', 'unprocessed')))\n",
    "# for f in items:\n",
    "#     if f[-4:] != '.wav':\n",
    "#         if os.path.splitext(f)[0] + '.wav' not in items:\n",
    "#             save_path = os.path.join(os.getcwd(), 'recordings', f)\n",
    "#             stream = ffmpeg.input(save_path)\n",
    "#             stream = ffmpeg.output(stream, os.path.join(os.getcwd(), 'recordings', os.path.splitext(f)[0] + '.wav'))\n",
    "#             ffmpeg.run(stream)\n",
    "#         os.remove(save_path)"
   ]
  },
  {
   "cell_type": "code",
   "execution_count": 5,
   "metadata": {},
   "outputs": [
    {
     "name": "stdout",
     "output_type": "stream",
     "text": [
      "trump.mp3\n"
     ]
    },
    {
     "name": "stderr",
     "output_type": "stream",
     "text": [
      "ffmpeg version 4.2.4-1ubuntu0.1 Copyright (c) 2000-2020 the FFmpeg developers\n",
      "  built with gcc 9 (Ubuntu 9.3.0-10ubuntu2)\n",
      "  configuration: --prefix=/usr --extra-version=1ubuntu0.1 --toolchain=hardened --libdir=/usr/lib/x86_64-linux-gnu --incdir=/usr/include/x86_64-linux-gnu --arch=amd64 --enable-gpl --disable-stripping --enable-avresample --disable-filter=resample --enable-avisynth --enable-gnutls --enable-ladspa --enable-libaom --enable-libass --enable-libbluray --enable-libbs2b --enable-libcaca --enable-libcdio --enable-libcodec2 --enable-libflite --enable-libfontconfig --enable-libfreetype --enable-libfribidi --enable-libgme --enable-libgsm --enable-libjack --enable-libmp3lame --enable-libmysofa --enable-libopenjpeg --enable-libopenmpt --enable-libopus --enable-libpulse --enable-librsvg --enable-librubberband --enable-libshine --enable-libsnappy --enable-libsoxr --enable-libspeex --enable-libssh --enable-libtheora --enable-libtwolame --enable-libvidstab --enable-libvorbis --enable-libvpx --enable-libwavpack --enable-libwebp --enable-libx265 --enable-libxml2 --enable-libxvid --enable-libzmq --enable-libzvbi --enable-lv2 --enable-omx --enable-openal --enable-opencl --enable-opengl --enable-sdl2 --enable-libdc1394 --enable-libdrm --enable-libiec61883 --enable-nvenc --enable-chromaprint --enable-frei0r --enable-libx264 --enable-shared\n",
      "  libavutil      56. 31.100 / 56. 31.100\n",
      "  libavcodec     58. 54.100 / 58. 54.100\n",
      "  libavformat    58. 29.100 / 58. 29.100\n",
      "  libavdevice    58.  8.100 / 58.  8.100\n",
      "  libavfilter     7. 57.100 /  7. 57.100\n",
      "  libavresample   4.  0.  0 /  4.  0.  0\n",
      "  libswscale      5.  5.100 /  5.  5.100\n",
      "  libswresample   3.  5.100 /  3.  5.100\n",
      "  libpostproc    55.  5.100 / 55.  5.100\n",
      "Input #0, mp3, from 'recordings/unprocessed/trump.mp3':\n",
      "  Metadata:\n",
      "    title           : farewell address of president donald j trump 1354355909979217131\n",
      "    comment         : X2Convert.com, Best converter for all file type: Audio, Video...\n",
      "    encoder         : fre:ac v1.1\n",
      "  Duration: 00:19:47.42, start: 0.025057, bitrate: 80 kb/s\n",
      "    Chapter #0:0: start 0.000000, end 1187.375000\n",
      "    Metadata:\n",
      "      title           : chp0\n",
      "    Stream #0:0: Audio: mp3, 44100 Hz, stereo, fltp, 79 kb/s\n",
      "    Metadata:\n",
      "      encoder         : LAME3.100\n",
      "Stream mapping:\n",
      "  Stream #0:0 -> #0:0 (mp3 (mp3float) -> pcm_s16le (native))\n",
      "Press [q] to stop, [?] for help\n",
      "Output #0, wav, to 'recordings/processed/trump.wav':\n",
      "  Metadata:\n",
      "    INAM            : farewell address of president donald j trump 1354355909979217131\n",
      "    ICMT            : X2Convert.com, Best converter for all file type: Audio, Video...\n",
      "    ISFT            : Lavf58.29.100\n",
      "    Chapter #0:0: start 0.000000, end 1187.350000\n",
      "    Metadata:\n",
      "      title           : chp0\n",
      "    Stream #0:0: Audio: pcm_s16le ([1][0][0][0] / 0x0001), 22050 Hz, mono, s16, 352 kb/s\n",
      "    Metadata:\n",
      "      encoder         : Lavc58.54.100 pcm_s16le\n",
      "size=   51136kB time=00:19:47.37 bitrate= 352.8kbits/s speed= 479x    \n",
      "video:0kB audio:51136kB subtitle:0kB other streams:0kB global headers:0kB muxing overhead: 0.000432%\n"
     ]
    },
    {
     "data": {
      "text/plain": [
       "[None]"
      ]
     },
     "execution_count": 5,
     "metadata": {},
     "output_type": "execute_result"
    }
   ],
   "source": [
    "unprocessed_uri = lambda f: f\"recordings/unprocessed/{f}\"\n",
    "processed_uri = lambda f: f\"recordings/processed/{f}\"\n",
    "\n",
    "def shittify_audio(f):\n",
    "    wavfile = os.path.splitext(f)[0] + '.wav'\n",
    "    command = f\"ffmpeg -i {unprocessed_uri(f)} -ac 1 -ar 22050 {processed_uri(wavfile)} -y\"\n",
    "    subprocess.call(command,shell=True)\n",
    "\n",
    "done = set([os.path.splitext(f)[0] for f in os.listdir(os.path.join(os.getcwd(), 'recordings', 'processed'))])\n",
    "unprocessed = os.listdir(os.path.join(os.getcwd(), 'recordings', 'unprocessed'))\n",
    "[shittify_audio(f) for f in unprocessed if os.path.splitext(f)[0] not in done and not print(f)]"
   ]
  },
  {
   "cell_type": "code",
   "execution_count": null,
   "metadata": {},
   "outputs": [],
   "source": []
  }
 ],
 "metadata": {
  "kernelspec": {
   "display_name": ".env",
   "language": "python",
   "name": ".env"
  },
  "language_info": {
   "codemirror_mode": {
    "name": "ipython",
    "version": 3
   },
   "file_extension": ".py",
   "mimetype": "text/x-python",
   "name": "python",
   "nbconvert_exporter": "python",
   "pygments_lexer": "ipython3",
   "version": "3.8.10"
  }
 },
 "nbformat": 4,
 "nbformat_minor": 4
}
