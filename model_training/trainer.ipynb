{
 "cells": [
  {
   "cell_type": "code",
   "execution_count": null,
   "metadata": {},
   "outputs": [],
   "source": [
    "import os\n",
    "from scipy.io import wavfile\n",
    "import pyworld\n",
    "import pysptk\n",
    "import IPython\n",
    "\n",
    "import torch\n",
    "import numpy as np\n",
    "from IPython.display import Audio"
   ]
  },
  {
   "cell_type": "code",
   "execution_count": null,
   "metadata": {},
   "outputs": [],
   "source": [
    "n_mfcc = 40\n",
    "\n",
    "inputs = []\n",
    "outputs = []\n",
    "\n",
    "fs = 22050\n",
    "fftlen = pyworld.get_cheaptrick_fft_size(fs)\n",
    "alpha = pysptk.util.mcepalpha(fs)"
   ]
  },
  {
   "cell_type": "code",
   "execution_count": null,
   "metadata": {},
   "outputs": [],
   "source": [
    "DATASET_PATH = \"../../../../datasets/inflection/inflection_data\"\n",
    "test_inp = DATASET_PATH + \"/joanna/trump_6.wav\"\n",
    "test_out = DATASET_PATH + \"/human/trump_6.wav\""
   ]
  },
  {
   "cell_type": "markdown",
   "metadata": {},
   "source": [
    "# Load Preprocessed Data"
   ]
  },
  {
   "cell_type": "code",
   "execution_count": null,
   "metadata": {},
   "outputs": [],
   "source": [
    "X, Y = torch.load('X100'),torch.load('Y100')\n",
    "X, Y = torch.FloatTensor(X), torch.FloatTensor(Y)"
   ]
  },
  {
   "cell_type": "markdown",
   "metadata": {},
   "source": [
    "# Training"
   ]
  },
  {
   "cell_type": "code",
   "execution_count": null,
   "metadata": {},
   "outputs": [],
   "source": [
    "#Final function to change for each model\n",
    "def predict(mcc):\n",
    "    return mcc"
   ]
  },
  {
   "cell_type": "markdown",
   "metadata": {},
   "source": [
    "# Test"
   ]
  },
  {
   "cell_type": "code",
   "execution_count": null,
   "metadata": {},
   "outputs": [],
   "source": [
    "def preprocess(data):\n",
    "    data = data.astype(np.float64)\n",
    "    f0, sp, ap = pyworld.wav2world(data, fs)\n",
    "    mcc = pysptk.sp2mc(sp, order=n_mfcc, alpha = alpha)\n",
    "    return mcc, f0, ap\n",
    "\n",
    "def decode(mcc, f0, ap):\n",
    "    sp = pysptk.mc2sp(\n",
    "            mcc.astype(np.float64), alpha=alpha, fftlen=fftlen)\n",
    "    waveform = pyworld.synthesize(\n",
    "            f0, sp, ap, fs)\n",
    "    return waveform\n",
    "\n",
    "fs, data_inp = wavfile.read(test_inp)\n",
    "fs, data_out = wavfile.read(test_out)\n",
    "\n",
    "mcc, f0, ap = preprocess(data_inp)\n",
    "mcc_output, f0_output, ap_output = preprocess(data_out)\n",
    "\n",
    "predicted_mcc = predict(mcc)\n",
    "original = decode(mcc, f0, ap)\n",
    "prediction = decode(predicted_mcc, f0, ap)\n",
    "target = decode(mcc_output, f0_output, ap_output)\n",
    "\n",
    "IPython.display.display(Audio(original, rate = fs))\n",
    "IPython.display.display(Audio(target, rate = fs))\n",
    "IPython.display.display(Audio(prediction, rate = fs))"
   ]
  }
 ],
 "metadata": {
  "kernelspec": {
   "display_name": "test_env",
   "language": "python",
   "name": "test_env"
  },
  "language_info": {
   "codemirror_mode": {
    "name": "ipython",
    "version": 3
   },
   "file_extension": ".py",
   "mimetype": "text/x-python",
   "name": "python",
   "nbconvert_exporter": "python",
   "pygments_lexer": "ipython3",
   "version": "3.6.9"
  }
 },
 "nbformat": 4,
 "nbformat_minor": 4
}
