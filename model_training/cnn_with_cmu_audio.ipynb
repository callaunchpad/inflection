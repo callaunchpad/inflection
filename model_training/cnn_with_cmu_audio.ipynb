{
 "cells": [
  {
   "cell_type": "code",
   "execution_count": null,
   "metadata": {},
   "outputs": [],
   "source": [
    "import numpy as np\n",
    "import IPython\n",
    "from IPython.display import Audio\n",
    "import torch\n",
    "import torch.nn as nn\n",
    "import tqdm\n",
    "import torch.optim as optim\n",
    "import matplotlib.pyplot as plt"
   ]
  },
  {
   "cell_type": "code",
   "execution_count": null,
   "metadata": {},
   "outputs": [],
   "source": [
    "# from data import AudioData, get_dataloaders\n",
    "from model_training.data import AudioData, get_dataloaders"
   ]
  },
  {
   "cell_type": "code",
   "execution_count": null,
   "metadata": {},
   "outputs": [],
   "source": [
    "device = torch.device(\"cuda\" if torch.cuda.is_available() else \"cpu\")\n",
    "print(device)"
   ]
  },
  {
   "cell_type": "code",
   "execution_count": null,
   "metadata": {},
   "outputs": [],
   "source": [
    "def display(data, fs=16000):\n",
    "    IPython.display.display(Audio(data, rate=fs))"
   ]
  },
  {
   "cell_type": "code",
   "execution_count": null,
   "metadata": {},
   "outputs": [],
   "source": [
    "ad = AudioData(n_mfcc = 40)"
   ]
  },
  {
   "cell_type": "code",
   "execution_count": null,
   "metadata": {},
   "outputs": [],
   "source": [
    "train_dataloader, test_dataloader = get_dataloaders(ad)"
   ]
  },
  {
   "cell_type": "code",
   "execution_count": null,
   "metadata": {},
   "outputs": [],
   "source": [
    "for e in train_dataloader:\n",
    "    X,y = e\n",
    "    decoded_X = ad.decode(X)\n",
    "    display(decoded_X)\n",
    "    X = X[None, :]\n",
    "    print(X.shape)\n",
    "#     print(y.shape)\n",
    "#     decoded_y = ad.decode(y)\n",
    "#     display(decoded_y)\n",
    "    break"
   ]
  },
  {
   "cell_type": "code",
   "execution_count": null,
   "metadata": {},
   "outputs": [],
   "source": [
    "class IDK(nn.Module):\n",
    "    def __init__(self, n_mfcc=40):\n",
    "        super(IDK, self).__init__()\n",
    "        self.linear = torch.nn.Linear(n_mfcc,n_mfcc)\n",
    "        \n",
    "    def forward(self, x):\n",
    "        x = self.linear(x)\n",
    "        return x"
   ]
  },
  {
   "cell_type": "code",
   "execution_count": null,
   "metadata": {},
   "outputs": [],
   "source": [
    "linear = IDK(n_mfcc=40).to(device)"
   ]
  },
  {
   "cell_type": "code",
   "execution_count": null,
   "metadata": {},
   "outputs": [],
   "source": [
    "class CNN(nn.Module):\n",
    "    def __init__(self):\n",
    "        super(CNN, self).__init__()\n",
    "        self.cnn_layers = torch.nn.Sequential(\n",
    "            torch.nn.Conv2d(1, 8, kernel_size=3),\n",
    "            torch.nn.ReLU(),\n",
    "            torch.nn.Conv2d(8, 16, kernel_size=3),\n",
    "            torch.nn.ReLU()\n",
    "        )\n",
    "        \n",
    "        self.linear_layers = torch.nn.Linear(16 * 24 * 24, 10)\n",
    "        \n",
    "    def forward(self, x):\n",
    "        x = self.cnn_layers(x)\n",
    "        x = torch.flatten(x, 1)\n",
    "        x = self.linear_layers(x)\n",
    "        return x"
   ]
  },
  {
   "cell_type": "code",
   "execution_count": null,
   "metadata": {},
   "outputs": [],
   "source": [
    "cnn = CNN().to(device)\n",
    "print(cnn)"
   ]
  },
  {
   "cell_type": "code",
   "execution_count": null,
   "metadata": {},
   "outputs": [],
   "source": [
    "loss = nn.CrossEntropyLoss()\n",
    "optimizer = optim.Adam(linear.parameters())\n",
    "\n",
    "EPOCHS = 1\n",
    "\n",
    "# cnn_losses = []\n",
    "# cnn_validation_loss = []\n",
    "\n",
    "linear_losses = []\n",
    "linear_validation_loss = []\n",
    "\n",
    "for i in range(EPOCHS):\n",
    "    for batch in tqdm.tqdm(train_dataloader):\n",
    "#         cnn.zero_grad()\n",
    "        linear.zero_grad()\n",
    "        batchX, batchY = batch\n",
    "        batchX = torch.unsqueeze(batchX, 0)\n",
    "\n",
    "        batchX = batchX.type(torch.FloatTensor)\n",
    "        batchY = batchY.type(torch.FloatTensor)\n",
    "\n",
    "        batchX = batchX.to(device)\n",
    "        batchY = batchY.to(device)\n",
    "        \n",
    "        batchX = torch.squeeze(batchX)\n",
    "        batchY = torch.squeeze(batchY)\n",
    "        \n",
    "\n",
    "#         out = cnn(batchX)\n",
    "        out = linear(batchX)\n",
    "        l = loss(out, batchY)\n",
    "        l.backward()\n",
    "#         cnn_losses.append(l)\n",
    "        linear_losses.append(l)\n",
    "        optimizer.step()\n",
    "\n",
    "#     with torch.no_grad():\n",
    "# #         out = cnn(valX)\n",
    "#         out = linear(valX)\n",
    "#         L = loss(out, valY)\n",
    "# #         cnn_validation_loss.append(float(L))\n",
    "#         linear_validation_loss.append(float(L))"
   ]
  },
  {
   "cell_type": "code",
   "execution_count": null,
   "metadata": {},
   "outputs": [],
   "source": [
    "plt.plot(linear_losses)"
   ]
  },
  {
   "cell_type": "code",
   "execution_count": null,
   "metadata": {},
   "outputs": [],
   "source": [
    "for validation in train_dataloader:\n",
    "    valX, valY = validation\n",
    "    \n",
    "    valX = valX.type(torch.FloatTensor)\n",
    "    valY = valY.type(torch.FloatTensor)\n",
    "\n",
    "    valX = torch.squeeze(valX).to(device)\n",
    "    valY = torch.squeeze(valY).to(device)\n",
    "    \n",
    "    out = linear(valX).cpu()\n",
    "    out = torch.unsqueeze(out, 0)\n",
    "    out = ad.decode(out.detach().numpy())\n",
    "    out = display(out)\n",
    "    \n",
    "    out1 = out.cpu().detach().numpy()\n",
    "    \n",
    "    \n",
    "    plt.plot(out1)\n",
    "    break"
   ]
  },
  {
   "cell_type": "markdown",
   "metadata": {},
   "source": []
  }
 ],
 "metadata": {
  "kernelspec": {
   "display_name": "test_env_poopoo",
   "language": "python",
   "name": "test_env_poopoo"
  },
  "language_info": {
   "codemirror_mode": {
    "name": "ipython",
    "version": 3
   },
   "file_extension": ".py",
   "mimetype": "text/x-python",
   "name": "python",
   "nbconvert_exporter": "python",
   "pygments_lexer": "ipython3",
   "version": "3.6.9"
  }
 },
 "nbformat": 4,
 "nbformat_minor": 4
}
