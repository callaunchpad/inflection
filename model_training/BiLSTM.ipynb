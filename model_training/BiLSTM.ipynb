{
 "cells": [
  {
   "cell_type": "code",
   "execution_count": null,
   "metadata": {},
   "outputs": [],
   "source": [
    "import os\n",
    "from scipy.io import wavfile\n",
    "import pyworld\n",
    "import pysptk\n",
    "import IPython\n",
    "\n",
    "import torch\n",
    "import numpy as np\n",
    "from IPython.display import Audio\n",
    "\n",
    "from sklearn.linear_model import LinearRegression\n",
    "\n",
    "import matplotlib.pyplot as plt\n",
    "from tqdm import tqdm\n",
    "from sklearn import svm\n",
    "from sklearn.multioutput import MultiOutputRegressor\n",
    "\n",
    "import torch\n",
    "import torch.nn as nn\n",
    "import torch.optim as optim\n",
    "import matplotlib.pyplot as plt\n",
    "import torch.nn.functional as F\n",
    "\n",
    "from torch.utils.data import TensorDataset, DataLoader"
   ]
  },
  {
   "cell_type": "code",
   "execution_count": null,
   "metadata": {},
   "outputs": [],
   "source": [
    "n_mfcc = 40\n",
    "\n",
    "inputs = []\n",
    "outputs = []\n",
    "\n",
    "fs = 22050\n",
    "fftlen = pyworld.get_cheaptrick_fft_size(fs)\n",
    "alpha = pysptk.util.mcepalpha(fs)"
   ]
  },
  {
   "cell_type": "markdown",
   "metadata": {},
   "source": [
    "# Load Preprocessed Data"
   ]
  },
  {
   "cell_type": "code",
   "execution_count": null,
   "metadata": {},
   "outputs": [],
   "source": [
    "X, Y = torch.load('X_IVANKA'),torch.load('Y_IVANKA')\n",
    "X, Y = torch.FloatTensor(X.float()), torch.FloatTensor(Y.float())\n",
    "X, Y = X[:, 1:], Y[:, 1:]\n",
    "\n",
    "X = X[:10000]\n",
    "Y = Y[:10000]"
   ]
  },
  {
   "cell_type": "code",
   "execution_count": null,
   "metadata": {},
   "outputs": [],
   "source": [
    "torch.cuda.empty_cache()\n",
    "device = torch.device(\"cuda\" if torch.cuda.is_available() else \"cpu\")"
   ]
  },
  {
   "cell_type": "code",
   "execution_count": null,
   "metadata": {},
   "outputs": [],
   "source": [
    "dataset = TensorDataset(X,Y)\n",
    "loader = DataLoader(dataset, batch_size=5000, pin_memory=True)"
   ]
  },
  {
   "cell_type": "markdown",
   "metadata": {},
   "source": [
    "# Training"
   ]
  },
  {
   "cell_type": "code",
   "execution_count": null,
   "metadata": {},
   "outputs": [],
   "source": [
    "class MLP(nn.Module):\n",
    "    def __init__(self, n_mfcc=40):\n",
    "        super(MLP, self).__init__()\n",
    "        self.layers = nn.Sequential(\n",
    "            nn.Linear(n_mfcc, 128),\n",
    "            nn.BatchNorm1d(128),\n",
    "        )\n",
    "        \n",
    "        self.rnn = nn.LSTM(128, 32, 2, batch_first = True, bidirectional = True)\n",
    "        \n",
    "        self.lin = torch.nn.Linear(64, n_mfcc)\n",
    "        \n",
    "        self.h0 = torch.randn(4, 1, 32).to(device)\n",
    "        self.c0 = torch.randn(4, 1, 32).to(device)\n",
    "        \n",
    "    def forward(self, x):\n",
    "        x = self.layers(x)\n",
    "        x = x.view(1, -1, *x.shape[1:])\n",
    "        x, _ = self.rnn(x, (self.h0, self.c0))\n",
    "        x = x.squeeze()\n",
    "        x = self.lin(x)\n",
    "        return x\n",
    "    \n",
    "mlp = MLP(40).to(device)"
   ]
  },
  {
   "cell_type": "code",
   "execution_count": null,
   "metadata": {},
   "outputs": [],
   "source": [
    "loss = nn.MSELoss()\n",
    "optimizer = optim.Adam(mlp.parameters(), lr = 0.01)\n",
    "\n",
    "EPOCHS = 100\n",
    "\n",
    "losses = []\n",
    "validation_loss = []\n",
    "\n",
    "t = tqdm(range(EPOCHS))\n",
    "for i in t:\n",
    "    for batch in loader:\n",
    "        batchX, batchY = batch\n",
    "        batchX, batchY = batchX.to(device), batchY.to(device)\n",
    "        mlp.zero_grad()\n",
    "        out = mlp(batchX)\n",
    "        l = loss(out, batchY)\n",
    "        l.backward()\n",
    "        losses.append(l)\n",
    "        optimizer.step()\n",
    "        t.postfix = {'LOSS':float(l)}"
   ]
  },
  {
   "cell_type": "code",
   "execution_count": null,
   "metadata": {},
   "outputs": [],
   "source": [
    "plt.plot(losses)"
   ]
  },
  {
   "cell_type": "code",
   "execution_count": null,
   "metadata": {},
   "outputs": [],
   "source": [
    "pred = mlp(X[:2000].to(device))\n",
    "pred = pred.cpu().detach().numpy()\n",
    "plt.plot(Y[1000:1500,1])\n",
    "plt.plot(pred[1000:1500,1])\n",
    "plt.legend(['target', 'prediction'])"
   ]
  },
  {
   "cell_type": "code",
   "execution_count": null,
   "metadata": {},
   "outputs": [],
   "source": [
    "def predict(mcc):\n",
    "    mcc = torch.Tensor(mcc)\n",
    "    pred = mlp(mcc.to(device))\n",
    "    pred = pred.cpu().detach().numpy()\n",
    "    return pred"
   ]
  },
  {
   "cell_type": "markdown",
   "metadata": {},
   "source": [
    "# Test"
   ]
  },
  {
   "cell_type": "code",
   "execution_count": null,
   "metadata": {},
   "outputs": [],
   "source": [
    "DATASET_PATH = \"../../../../datasets/inflection/ivakna\"\n",
    "test_inp = DATASET_PATH + \"/joanna/ivanka_3.wav\"\n",
    "test_out = DATASET_PATH + \"/ivanka/ivanka_3.wav\"\n",
    "\n",
    "get_from_codebook = lambda row: mcc_output[np.argmin(np.sum((mcc_output - row) ** 2, axis = 1))]\n",
    "\n",
    "def preprocess(data):\n",
    "    data = data.astype(np.float64)\n",
    "    f0, sp, ap = pyworld.wav2world(data, fs)\n",
    "    mcc = pysptk.sp2mc(sp, order=n_mfcc, alpha = alpha)\n",
    "    return mcc, f0, ap\n",
    "\n",
    "def decode(mcc, f0, ap):\n",
    "    sp = pysptk.mc2sp(\n",
    "            mcc.astype(np.float64), alpha=alpha, fftlen=fftlen)\n",
    "    waveform = pyworld.synthesize(\n",
    "            f0, sp, ap, fs)\n",
    "    return waveform\n",
    "\n",
    "fs, data_inp = wavfile.read(test_inp)\n",
    "fs, data_out = wavfile.read(test_out)\n",
    "\n",
    "mcc, f0, ap = preprocess(data_inp)\n",
    "mcc_output, f0_output, ap_output = preprocess(data_out)\n",
    "\n",
    "predicted_mcc = mcc.copy()\n",
    "predicted_mcc[:,1:] = predict(mcc[:,1:])\n",
    "\n",
    "pred2 = predicted_mcc.copy()\n",
    "\n",
    "for i in tqdm(range(len(predicted_mcc))):\n",
    "    pred2[i] = get_from_codebook(pred2[i])\n",
    "\n",
    "original = decode(mcc, f0, ap)\n",
    "prediction = decode(predicted_mcc, f0 * 1.15, ap)\n",
    "prediction2 = decode(pred2, f0 * 1.15, ap)\n",
    "target = decode(mcc_output, f0_output, ap_output)\n",
    "\n",
    "IPython.display.display(Audio(original, rate = fs))\n",
    "IPython.display.display(Audio(target, rate = fs))\n",
    "IPython.display.display(Audio(prediction, rate = fs))\n",
    "IPython.display.display(Audio(prediction2, rate = fs))"
   ]
  },
  {
   "cell_type": "code",
   "execution_count": null,
   "metadata": {},
   "outputs": [],
   "source": [
    "mfcc = 1\n",
    "plt.plot(predicted_mcc[:500,mfcc]) \n",
    "plt.plot(pred2[:500, mfcc])\n",
    "plt.legend(['pred', 'pred with codebook'])"
   ]
  },
  {
   "cell_type": "code",
   "execution_count": null,
   "metadata": {},
   "outputs": [],
   "source": [
    "plt.plot(mcc_output[:500, mfcc])\n",
    "plt.legend(['target'])"
   ]
  }
 ],
 "metadata": {
  "kernelspec": {
   "display_name": "test_env",
   "language": "python",
   "name": "test_env"
  },
  "language_info": {
   "codemirror_mode": {
    "name": "ipython",
    "version": 3
   },
   "file_extension": ".py",
   "mimetype": "text/x-python",
   "name": "python",
   "nbconvert_exporter": "python",
   "pygments_lexer": "ipython3",
   "version": "3.6.9"
  }
 },
 "nbformat": 4,
 "nbformat_minor": 4
}
