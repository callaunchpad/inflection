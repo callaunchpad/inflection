{
 "cells": [
  {
   "cell_type": "code",
   "execution_count": 3,
   "metadata": {},
   "outputs": [],
   "source": [
    "from pydub import AudioSegment\n",
    "import math\n",
    "import os"
   ]
  },
  {
   "cell_type": "code",
   "execution_count": 4,
   "metadata": {},
   "outputs": [],
   "source": [
    "human_uri = lambda f: f\"human/{f}\"\n",
    "processed_uri = lambda f: f\"recordings/processed/{f}\""
   ]
  },
  {
   "cell_type": "code",
   "execution_count": 10,
   "metadata": {},
   "outputs": [],
   "source": [
    "class SplitWavAudioMubin():\n",
    "    def __init__(self, filename):\n",
    "        self.filename = filename\n",
    "        self.filepath = processed_uri(filename)\n",
    "        \n",
    "        self.audio = AudioSegment.from_wav(self.filepath)\n",
    "    \n",
    "    def get_duration(self):\n",
    "        return self.audio.duration_seconds\n",
    "    \n",
    "    def single_split(self, from_min, to_min, split_filename):\n",
    "        t1 = from_min * 1000\n",
    "        t2 = to_min * 1000\n",
    "        split_audio = self.audio[t1:t2]\n",
    "        split_audio.export(human_uri(split_filename), format=\"wav\")\n",
    "        \n",
    "    def multiple_split(self, secs_per_split):\n",
    "        total_secs = math.ceil(self.get_duration())\n",
    "        for i in range(0, total_secs // secs_per_split):\n",
    "            split_fn = str(i) + '_' + self.filename\n",
    "            self.single_split(i, i+secs_per_split, split_fn)\n",
    "            print(str(i) + ' Done')\n",
    "            if i == total_secs - secs_per_split:\n",
    "                print('All splited successfully')"
   ]
  },
  {
   "cell_type": "code",
   "execution_count": 11,
   "metadata": {},
   "outputs": [
    {
     "name": "stdout",
     "output_type": "stream",
     "text": [
      "0 Done\n",
      "1 Done\n"
     ]
    }
   ],
   "source": [
    "processed = set(os.listdir(os.path.join(os.getcwd(), 'recordings', 'processed')))\n",
    "\n",
    "for f in processed:\n",
    "    split_wav = SplitWavAudioMubin(f)\n",
    "    split_wav.multiple_split(secs_per_split=5)\n",
    "    "
   ]
  },
  {
   "cell_type": "code",
   "execution_count": null,
   "metadata": {},
   "outputs": [],
   "source": []
  }
 ],
 "metadata": {
  "kernelspec": {
   "display_name": ".env",
   "language": "python",
   "name": ".env"
  },
  "language_info": {
   "codemirror_mode": {
    "name": "ipython",
    "version": 3
   },
   "file_extension": ".py",
   "mimetype": "text/x-python",
   "name": "python",
   "nbconvert_exporter": "python",
   "pygments_lexer": "ipython3",
   "version": "3.8.10"
  }
 },
 "nbformat": 4,
 "nbformat_minor": 4
}
