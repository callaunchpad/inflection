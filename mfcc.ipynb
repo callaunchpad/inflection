{
 "cells": [
  {
   "cell_type": "code",
   "execution_count": 3,
   "metadata": {},
   "outputs": [
    {
     "ename": "ModuleNotFoundError",
     "evalue": "No module named 'librosa'",
     "output_type": "error",
     "traceback": [
      "\u001b[0;31m---------------------------------------------------------------------------\u001b[0m",
      "\u001b[0;31mModuleNotFoundError\u001b[0m                       Traceback (most recent call last)",
      "\u001b[0;32m<ipython-input-3-1a4d83fc0cae>\u001b[0m in \u001b[0;36m<module>\u001b[0;34m\u001b[0m\n\u001b[1;32m     19\u001b[0m \u001b[0;32mimport\u001b[0m \u001b[0mcmath\u001b[0m\u001b[0;34m\u001b[0m\u001b[0;34m\u001b[0m\u001b[0m\n\u001b[1;32m     20\u001b[0m \u001b[0;34m\u001b[0m\u001b[0m\n\u001b[0;32m---> 21\u001b[0;31m \u001b[0;32mimport\u001b[0m \u001b[0mlibrosa\u001b[0m\u001b[0;34m\u001b[0m\u001b[0;34m\u001b[0m\u001b[0m\n\u001b[0m",
      "\u001b[0;31mModuleNotFoundError\u001b[0m: No module named 'librosa'"
     ]
    }
   ],
   "source": [
    "import pyworld\n",
    "from scipy.io import wavfile\n",
    "\n",
    "import IPython\n",
    "from IPython.display import Audio\n",
    "\n",
    "import matplotlib.pyplot as plt\n",
    "import numpy as np\n",
    "import pysptk\n",
    "\n",
    "import os\n",
    "\n",
    "import tqdm\n",
    "\n",
    "from nnmnkwii.preprocessing.alignment import DTWAligner\n",
    "from nnmnkwii.metrics import melcd\n",
    "\n",
    "import math\n",
    "import cmath"
   ]
  },
  {
   "cell_type": "code",
   "execution_count": null,
   "metadata": {},
   "outputs": [],
   "source": [
    "DATASET_PATH = \"../../../datasets/cmu_artic\"\n",
    "EXAMPLE_EXT = \"/cmu_us_clb_arctic/wav/arctic_a0001.wav\""
   ]
  },
  {
   "cell_type": "code",
   "execution_count": null,
   "metadata": {},
   "outputs": [],
   "source": [
    "sampling_frequency, data = wavfile.read(DATASET_PATH + EXAMPLE_EXT)\n",
    "IPython.display.display(Audio(data, rate = sampling_frequency))\n",
    "plt.plot(data)\n",
    "print(\"Sampling frequency: \", sampling_frequency)\n",
    "print(data.size)"
   ]
  },
  {
   "cell_type": "code",
   "execution_count": null,
   "metadata": {},
   "outputs": [],
   "source": [
    "# split data\n",
    "sample = []\n",
    "for i in range(0, data.size, 160):\n",
    "#     if (i + 400 > )\n",
    "    s = data[i:i+400]\n",
    "    \n",
    "    sample.append(s)\n",
    "    \n",
    "sample = sample[: len(sample) - 3]\n",
    "sample = np.array(sample, dtype=np.csingle)\n",
    "\n",
    "print(sample.size)\n",
    "print(sample[0].size)\n",
    "print(sample)"
   ]
  },
  {
   "cell_type": "code",
   "execution_count": null,
   "metadata": {},
   "outputs": [],
   "source": [
    "# discrete fourier transform\n",
    "sample_S = []\n",
    "sample_P = []\n",
    "\n",
    "sample_size = 50\n",
    "\n",
    "for i in range(0, sample_size):\n",
    "    # each 400 points\n",
    "    S_i = []\n",
    "    P_i = []\n",
    "#     for k in range(0, 257):\n",
    "#         curr_S_i = 0\n",
    "        \n",
    "#         for n in range(0, 400):\n",
    "#             curr_S_i += sample[i][n] * cmath.exp(-1j * 2 * math.pi * k * n / 400)\n",
    "            \n",
    "#         curr_P_i = 0\n",
    "\n",
    "        \n",
    "#         S_i.append(curr_S_i)\n",
    "    \n",
    "#         P_i.append(curr_P_i)\n",
    "    S_i = np.fft.fft(sample[i], n=512)\n",
    "    S_i = S_i[:257]\n",
    "    \n",
    "    P_i = S_i * S_i / 400\n",
    "    \n",
    "        \n",
    "    sample_S.append(S_i)\n",
    "    sample_P.append(P_i)\n",
    "        \n",
    "plt.plot(S_i)\n",
    "plt.plot(P_i)"
   ]
  },
  {
   "cell_type": "code",
   "execution_count": null,
   "metadata": {},
   "outputs": [],
   "source": [
    "def mel(f):\n",
    "    return 1125 * np.log(1 + f / 700)\n",
    "\n",
    "# convert back into freq\n",
    "def mel_to_freq(m):\n",
    "    return 700 * (np.exp(m / 1125) - 1)\n",
    "\n",
    "num_filter = 10\n",
    "\n",
    "lower_bound = 300\n",
    "upper_bound = 8000\n",
    "\n",
    "lower_mel = mel(lower_bound)\n",
    "upper_mel = mel(upper_bound)\n",
    "\n",
    "\n",
    "MEL = np.linspace(lower_mel, upper_mel, num=num_filter)\n",
    "HERTZ = mel_to_freq(MEL)\n",
    "fft_bins = np.floor(513 * HERTZ / sampling_frequency)\n",
    "\n",
    "power_bank = []\n",
    "\n",
    "for m in range(1, num_filter-1):\n",
    "    H_m = []\n",
    "    h_m = 0\n",
    "    \n",
    "    for k in range(0, 257):\n",
    "        if (k >= fft_bins[m - 1] and k <= fft_bins[m]):\n",
    "            h_m = (k - fft_bins[m - 1]) / (fft_bins[m] - fft_bins[m - 1])\n",
    "        elif (k >= fft_bins[m] and k <= fft_bins[m + 1]):\n",
    "            h_m = (-k + fft_bins[m + 1]) / (fft_bins[m+1] - fft_bins[m])\n",
    "        else:\n",
    "            h_m = 0\n",
    "        H_m.append(h_m)\n",
    "    power_bank.append(H_m)\n",
    "    \n",
    "            \n",
    "for p in power_bank:\n",
    "    plt.plot(p)\n"
   ]
  },
  {
   "cell_type": "code",
   "execution_count": null,
   "metadata": {},
   "outputs": [],
   "source": [
    "# calculate and take log of powerbank energies\n",
    "filterbank_energies = []\n",
    "\n",
    "for i in range(len(sample_P)):\n",
    "    sample_P_i_arr = [] \n",
    "    for j in range(len(power_bank)):\n",
    "        sample_P_i = np.matmul(sample_P[i], np.array(power_bank[j]).T) + MEL\n",
    "        sample_P_i = np.log(sample_P_i)\n",
    "        sample_P_i_arr.append(sample_P_i)\n",
    "        \n",
    "    \n",
    "    filterbank_energies.append(sample_P_i_arr)\n",
    "\n",
    "# print(np.array(sample_P).shape)\n",
    "# print(np.array(power_bank).shape)\n",
    "# print(np.array(filterbank_energies).shape)\n",
    "# print(np.array(filterbank_energies))\n",
    "for p in np.array(filterbank_energies):\n",
    "    plt.plot(p)\n",
    "\n"
   ]
  },
  {
   "cell_type": "code",
   "execution_count": null,
   "metadata": {},
   "outputs": [],
   "source": [
    "# Discrete cosine transform(DCT)\n",
    "DCT = []\n",
    "# N = len(sample_P)\n",
    "\n",
    "# for i in range(N):\n",
    "#     dct_i = 1/N * sample_P[]\n",
    "\n",
    "import scipy.fftpack\n",
    "\n",
    "# DCT = scipy.fftpack.dct(filterbank_energies[0])\n",
    "\n",
    "for i in range(sample_size):\n",
    "    DCT.append(scipy.fftpack.dct(filterbank_energies[i]))\n",
    "\n",
    "for i in DCT:\n",
    "    plt.plot(i)\n",
    "\n",
    "\n",
    "# print(np.array(filterbank_energies).shape)\n"
   ]
  },
  {
   "cell_type": "code",
   "execution_count": null,
   "metadata": {},
   "outputs": [],
   "source": [
    "### Reverse from freq to audio ###\n",
    "\n",
    "import librosa"
   ]
  },
  {
   "cell_type": "code",
   "execution_count": null,
   "metadata": {},
   "outputs": [],
   "source": []
  }
 ],
 "metadata": {
  "kernelspec": {
   "display_name": "test_env",
   "language": "python",
   "name": "test_env"
  },
  "language_info": {
   "codemirror_mode": {
    "name": "ipython",
    "version": 3
   },
   "file_extension": ".py",
   "mimetype": "text/x-python",
   "name": "python",
   "nbconvert_exporter": "python",
   "pygments_lexer": "ipython3",
   "version": "3.6.9"
  }
 },
 "nbformat": 4,
 "nbformat_minor": 4
}
